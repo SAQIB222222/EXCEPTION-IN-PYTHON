{
 "cells": [
  {
   "cell_type": "markdown",
   "id": "c7638056-b4b2-4eb7-bc63-77190571c47e",
   "metadata": {},
   "source": [
    "Q1"
   ]
  },
  {
   "cell_type": "markdown",
   "id": "cfb3bf2c-9729-4fa5-8e12-e4619bd463c8",
   "metadata": {},
   "source": [
    " We use the Exception class as the base class for creating custom exceptions in Python because it provides a common interface and set of methods for all exceptions. When we inherit from the Exception class, our custom exception inherits all the methods and attributes of the Exception class, such as __str__, __repr__, and args. This makes it easier to create and use custom exceptions, as they behave in the same way as built-in exceptions.\n",
    "\n"
   ]
  },
  {
   "cell_type": "markdown",
   "id": "d1af7952-08db-4142-a2f8-f90a33ba5694",
   "metadata": {},
   "source": [
    "Q2"
   ]
  },
  {
   "cell_type": "code",
   "execution_count": 1,
   "id": "ff57c23a-176c-4684-b2d5-8d8425d8bde9",
   "metadata": {},
   "outputs": [
    {
     "ename": "RuntimeError",
     "evalue": "dictionary changed size during iteration",
     "output_type": "error",
     "traceback": [
      "\u001b[0;31m---------------------------------------------------------------------------\u001b[0m",
      "\u001b[0;31mRuntimeError\u001b[0m                              Traceback (most recent call last)",
      "Cell \u001b[0;32mIn[1], line 3\u001b[0m\n\u001b[1;32m      1\u001b[0m \u001b[38;5;28;01mimport\u001b[39;00m \u001b[38;5;21;01msys\u001b[39;00m\n\u001b[0;32m----> 3\u001b[0m \u001b[38;5;28;01mfor\u001b[39;00m name, obj \u001b[38;5;129;01min\u001b[39;00m \u001b[38;5;28mvars\u001b[39m(sys\u001b[38;5;241m.\u001b[39mmodules[\u001b[38;5;18m__name__\u001b[39m])\u001b[38;5;241m.\u001b[39mitems():\n\u001b[1;32m      4\u001b[0m     \u001b[38;5;28;01mif\u001b[39;00m \u001b[38;5;28misinstance\u001b[39m(obj, \u001b[38;5;28mtype\u001b[39m) \u001b[38;5;129;01mand\u001b[39;00m \u001b[38;5;28missubclass\u001b[39m(obj, \u001b[38;5;167;01mBaseException\u001b[39;00m):\n\u001b[1;32m      5\u001b[0m         \u001b[38;5;28mprint\u001b[39m(name)\n",
      "\u001b[0;31mRuntimeError\u001b[0m: dictionary changed size during iteration"
     ]
    }
   ],
   "source": [
    "import sys\n",
    "\n",
    "for name, obj in vars(sys.modules[__name__]).items():\n",
    "    if isinstance(obj, type) and issubclass(obj, BaseException):\n",
    "        print(name)\n"
   ]
  },
  {
   "cell_type": "markdown",
   "id": "f4864335-1290-48a0-b680-f6b9d743e48f",
   "metadata": {},
   "source": [
    "This program uses the sys module to iterate over all the objects defined in the current module and checks if they are subclasses of the BaseException class. If they are, it prints the name of the class."
   ]
  },
  {
   "cell_type": "markdown",
   "id": "910e7a6b-d382-4832-be5b-e83bb2cc30ac",
   "metadata": {},
   "source": [
    "Q3"
   ]
  },
  {
   "cell_type": "markdown",
   "id": "8a389b05-1fc7-43b8-a84e-699ac51a528a",
   "metadata": {},
   "source": [
    "The ArithmeticError class is a subclass of the Exception class that represents errors that occur during arithmetic operations. Some errors defined in the ArithmeticError class are:"
   ]
  },
  {
   "cell_type": "markdown",
   "id": "a437a660-56d0-4e8d-8d61-fa88101f45bd",
   "metadata": {},
   "source": [
    "ZeroDivisionError: Raised when trying to divide a number by zero."
   ]
  },
  {
   "cell_type": "code",
   "execution_count": 2,
   "id": "223d65e4-11cd-4ce7-8da7-4d7c22b11c79",
   "metadata": {},
   "outputs": [
    {
     "name": "stdout",
     "output_type": "stream",
     "text": [
      "division by zero\n"
     ]
    }
   ],
   "source": [
    "x = 10\n",
    "y = 0\n",
    "try:\n",
    "    result = x / y\n",
    "except ZeroDivisionError as e:\n",
    "    print(e)\n"
   ]
  },
  {
   "cell_type": "markdown",
   "id": "52dd89b6-2017-4f78-9bfb-5f93cff9caaa",
   "metadata": {},
   "source": [
    "OverflowError: Raised when a calculation exceeds the maximum representable value.\n"
   ]
  },
  {
   "cell_type": "code",
   "execution_count": null,
   "id": "5c0d2ba4-4dbb-431d-a745-c61e0e1e1c3e",
   "metadata": {},
   "outputs": [],
   "source": [
    "x = 2 ** 1000\n",
    "try:\n",
    "    result = x ** x\n",
    "except OverflowError as e:\n",
    "    print(e)\n"
   ]
  },
  {
   "cell_type": "markdown",
   "id": "1ad0e470-d8c6-46a3-a96a-3f3b5217efad",
   "metadata": {},
   "source": [
    "Q4"
   ]
  },
  {
   "cell_type": "markdown",
   "id": "bdac5c7f-b82d-457d-8a36-c6f8e76f3bac",
   "metadata": {},
   "source": [
    " The LookupError class is a subclass of the Exception class that represents errors that occur when a key or index is not found in a collection. Two examples of LookupError subclasses are:\n",
    "\n",
    "KeyError: Raised when trying to access a non-existent key in a dictionary.\n",
    "\n"
   ]
  },
  {
   "cell_type": "code",
   "execution_count": null,
   "id": "f269b60b-2ac1-4a43-b600-afbcc058bfb7",
   "metadata": {},
   "outputs": [],
   "source": [
    "my_dict = {'a': 1, 'b': 2}\n",
    "try:\n",
    "    value = my_dict['c']\n",
    "except KeyError as e:\n",
    "    print(e)\n"
   ]
  },
  {
   "cell_type": "markdown",
   "id": "48a27e22-09e3-4255-a71f-94613fef6b34",
   "metadata": {},
   "source": [
    "IndexError: Raised when trying to access a non-existent index in a list or tuple."
   ]
  },
  {
   "cell_type": "code",
   "execution_count": null,
   "id": "86f8ed31-c561-487b-ac2d-512691f80c02",
   "metadata": {},
   "outputs": [],
   "source": [
    "my_list = [1, 2, 3]\n",
    "try:\n",
    "    value = my_list[3]\n",
    "except IndexError as e:\n",
    "    print(e)\n"
   ]
  },
  {
   "cell_type": "markdown",
   "id": "e8851b84-8fcd-4a16-8339-5e899d2f9569",
   "metadata": {},
   "source": [
    "Q5"
   ]
  },
  {
   "cell_type": "markdown",
   "id": "8b5f99f3-0a22-4430-af43-87a9686b7014",
   "metadata": {},
   "source": [
    "ImportError is a subclass of the Exception class that is raised when a module cannot be imported. This can occur if the module does not exist, if there is a syntax error in the module, or if there is a problem with the Python path. ModuleNotFoundError is a subclass of ImportError that was introduced in Python 3.6 to provide a more specific error message when a module cannot be found.\n",
    "\n"
   ]
  },
  {
   "cell_type": "markdown",
   "id": "5c4ffb32-68a6-4e34-be7d-d8579f2e9046",
   "metadata": {},
   "source": [
    "Q6"
   ]
  },
  {
   "cell_type": "markdown",
   "id": "c49c9c64-48f3-419d-9090-8019ee91ca8f",
   "metadata": {},
   "source": [
    "Here are some best practices for exception handling in Python:\n",
    "\n",
    "Be specific: Use the most specific exception class that applies to the error you are handling, rather than using a generic Exception class.\n",
    "\n",
    "Use context managers: Use context managers such as with statements to ensure that resources are properly released, even in the case of an exception.\n",
    "\n",
    "Log exceptions: Use a logging library to log exceptions and other error information, so that you can easily track down bugs and troubleshoot issues.\n",
    "\n",
    "Handle exceptions at the appropriate level: Handle exceptions at the level of the code that can most effectively deal with them, rather than letting them propagate up to a higher level.\n",
    "\n",
    "Keep error messages user-friendly: Make sure that error messages are clear and concise, and provide"
   ]
  },
  {
   "cell_type": "code",
   "execution_count": null,
   "id": "8b2addbf-28a2-4f92-9917-5eb757128ee3",
   "metadata": {},
   "outputs": [],
   "source": []
  }
 ],
 "metadata": {
  "kernelspec": {
   "display_name": "Python 3 (ipykernel)",
   "language": "python",
   "name": "python3"
  },
  "language_info": {
   "codemirror_mode": {
    "name": "ipython",
    "version": 3
   },
   "file_extension": ".py",
   "mimetype": "text/x-python",
   "name": "python",
   "nbconvert_exporter": "python",
   "pygments_lexer": "ipython3",
   "version": "3.10.8"
  }
 },
 "nbformat": 4,
 "nbformat_minor": 5
}
